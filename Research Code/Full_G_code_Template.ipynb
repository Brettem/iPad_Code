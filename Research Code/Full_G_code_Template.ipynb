{
 "cells": [
  {
   "cell_type": "markdown",
   "metadata": {
    "colab_type": "text",
    "id": "view-in-github"
   },
   "source": [
    "<a href=\"https://colab.research.google.com/github/Brettem/My_Python_Stuff/blob/master/Linear_G_code_Template.ipynb\" target=\"_parent\"><img src=\"https://colab.research.google.com/assets/colab-badge.svg\" alt=\"Open In Colab\"/></a>"
   ]
  },
  {
   "cell_type": "code",
   "execution_count": 1,
   "metadata": {
    "id": "YCRqBw41Z1_7"
   },
   "outputs": [],
   "source": [
    "import numpy as np\n",
    "import pandas as pd\n",
    "import sympy as sp"
   ]
  },
  {
   "cell_type": "code",
   "execution_count": 2,
   "metadata": {
    "colab": {
     "base_uri": "https://localhost:8080/"
    },
    "id": "y8e-qjTCDDSf",
    "outputId": "b987959c-5539-4051-c931-328956a57248"
   },
   "outputs": [
    {
     "name": "stdout",
     "output_type": "stream",
     "text": [
      "1/H* = 0.125\n",
      "Will not accumulate\n"
     ]
    }
   ],
   "source": [
    "# Critical Inputs\n",
    "\n",
    "Trial = \"TEMPLATE\"\n",
    "\n",
    "V_star = 0.2\n",
    "\n",
    "H_star = 8.0\n",
    "\n",
    "\n",
    "print(f\"1/H* = {1/H_star}\")\n",
    "if V_star <= 1/H_star:\n",
    "  print(\"Will accumulate\")\n",
    "else:\n",
    "  print(\"Will not accumulate\")"
   ]
  },
  {
   "cell_type": "code",
   "execution_count": 3,
   "metadata": {
    "id": "paXCsN51Z2AB"
   },
   "outputs": [],
   "source": [
    "# Hardcode Inputs\n",
    "\n",
    "D_f = 1.75 # Diameter of filament in \n",
    "D_n = 0.4 # Diameter of Nozzle\n",
    "\n",
    "T_n = 240 # Nozzle Temp (°C)\n",
    "T_b = 100 # Bed Temp (°C)\n",
    "\n",
    "X0 = 50 # Starting move x-coordinate (mm)\n",
    "Y0 = 105 # Starting move y-coordinate (mm)\n",
    "\n",
    "# Z0 = 5 # Height of first layer, [AKA: H] (mm)\n",
    "\n",
    "Zα = 150 # Height of α test \n",
    "\n",
    "F1 = 300 # Second coordinates F-speed, [move speed of nozzle to second coordinates] (mm/min)\n",
    "# X1 = 200 # Second move x-coordinate (mm)\n",
    "# E1 = 100 # Second move E-amount, [amount of filament fed into the extruder during move to second coordinates] (mm)\n",
    "S = 0.66 # Flow Multiplyer, [M221]\n",
    "\n",
    "L1 = 150 # Length of move (mm)\n",
    "\n",
    "α = 1.63 # Die-Swell Constant [Prediction]\n",
    "a = α"
   ]
  },
  {
   "cell_type": "code",
   "execution_count": 4,
   "metadata": {
    "colab": {
     "base_uri": "https://localhost:8080/"
    },
    "id": "_7rNhNngZ2AB",
    "outputId": "6f904f56-aa1f-4bc5-fe4b-4a4ed7bd3f88"
   },
   "outputs": [
    {
     "name": "stdout",
     "output_type": "stream",
     "text": [
      "H = 5.216\n",
      "E = 150\n",
      "S = 0.6940473469387756\n",
      "X1 = 200\n"
     ]
    }
   ],
   "source": [
    "# Formulaic Inputs\n",
    "\n",
    "L = L1\n",
    "\n",
    "H = H_star*α*D_n\n",
    "\n",
    "# E = (L/(S*V_star))*(((α*D_n)/D_f)**2) # E as manipulated variable\n",
    "E = L # only use when NOT using E as manipulated variable\n",
    "\n",
    "S = (L/(E*V_star))*(((α*D_n)/D_f)**2)\n",
    "\n",
    "Z0 = H\n",
    "E1 = E\n",
    "\n",
    "X1 = X0 + L1\n",
    "\n",
    "print(f\"H = {H}\")\n",
    "print(f\"E = {E}\")\n",
    "print(f\"S = {S}\")\n",
    "print(f\"X1 = {X1}\")"
   ]
  },
  {
   "cell_type": "code",
   "execution_count": null,
   "metadata": {},
   "outputs": [],
   "source": [
    "# Functions\n",
    "\n",
    "class gcode_generator:\n",
    "    def __init__(self, move, layer, X_0 = 100, Y_0 = 80, X_wipe, Y_wipe, X, Y, Z, E, F):\n",
    "        self.move = move\n",
    "        self.layer = layer\n",
    "        self.X_0 = X_0\n",
    "        self.Y_0 = Y_0\n",
    "        self.X_wipe = X_wipe\n",
    "        self.Y_wipe = Y_wipe\n",
    "        self.X = X\n",
    "        self.Y = Y\n",
    "        self.Z = Z\n",
    "        self.E = E\n",
    "        self.F = F\n",
    "        \n",
    "    def wipe(self):\n",
    "        return X = self.X_0 - 50\n",
    "    \n",
    "    def X_move(self):\n",
    "        if move == 0:\n",
    "            X = X_0\n",
    "        elif move > 0 and X != X_1:\n",
    "            X = X_1\n",
    "        else:\n",
    "            X = X_0\n",
    "        return X\n",
    "    \n",
    "    def Y_move(self):\n",
    "        if move == 0:\n",
    "            Y = Y_0\n",
    "        elif move > 0 and Y != Y_1:\n",
    "            Y = Y_1\n",
    "        else:\n",
    "            Y = Y_0\n",
    "        return Y"
   ]
  },
  {
   "cell_type": "code",
   "execution_count": 7,
   "metadata": {
    "id": "uM4ME0AgZ2AC"
   },
   "outputs": [],
   "source": [
    "# Writing of G-code\n",
    "\n",
    "D1 = [f'M73 P0 R0 \\n',\n",
    "      f'M201 X9000 Y9000 Z500 E10000 ; sets maximum accelerations, mm/sec^2 \\n',\n",
    "      f'M203 X500 Y500 Z12 E120 ; sets maximum feedrates, mm/sec \\n',\n",
    "      f'M204 P2000 R1500 T2000 ; sets acceleration (P, T) and retract acceleration (R), mm/sec^2 \\n',\n",
    "      f'M205 X10.00 Y10.00 Z0.20 E4.50 ; sets the jerk limits, mm/sec \\n',\n",
    "      f'M205 S0 T0 ; sets the minimum extruding and travel feed rate, mm/sec \\n',\n",
    "      f'M107 ; turns off fan \\n',\n",
    "      f'M862.3 P \"MK2.5S\" ; printer model check \\n',\n",
    "      f'M862.1 P0.4 ; nozzle diameter check \\n',\n",
    "      f'G90 ; use absolute coordinates \\n',\n",
    "      f'M83  ; extruder relative mode \\n',\n",
    "      \n",
    "      f'\\n'\n",
    "      \n",
    "      f'M104 S{T_n} ; set extruder temp \\n',\n",
    "      f'M140 S{T_b} ; set bed temp \\n',\n",
    "      f'M190 S{T_b} ; wait for bed temp \\n',\n",
    "      f'M109 S{T_n} ; wait for extruder temp \\n',\n",
    "\n",
    "      f'\\n',\n",
    "      \n",
    "      f'G28 W ; home all without mesh bed level \\n',\n",
    "      f'G80 ; mesh bed leveling \\n',\n",
    "      f'G1 Y-3.0 F1000.0 ; go outside print area \\n',\n",
    "      f'G92 E0.0 \\n',\n",
    "      f'G1 X60.0 E9.0 F1000.0 ; intro line \\n',\n",
    "      f'M73 P14 R0 \\n',\n",
    "      f'G1 X100.0 E12.5 F1000.0 ; intro line \\n',\n",
    "      f'G92 E0.0 \\n',\n",
    "      f'G21 ; set units to millimeters \\n',\n",
    "      f'G90 ; use absolute coordinates \\n',\n",
    "      f'M83 ; use relative distances for extrusion \\n',\n",
    "      f'M900 K0.05 ; Filament gcode LA 1.5 \\n',\n",
    "      f'M900 K30 ; Filament gcode LA 1.0 \\n',\n",
    "      f'G92 E0.0 \\n',\n",
    "\n",
    "      f'M221 S{S} \\n',\n",
    "      \n",
    "      f'G1 Z0.200 F10800.000 \\n',\n",
    "     \n",
    "      f'\\n',\n",
    "      f'\\n']\n",
    "\n",
    "M1 = [f'G1 X{X0} Y{Y0} Z{Z0} \\n',\n",
    "      f'M204 S1000 \\n',\n",
    "      f'G1 X{X1} F{F1} E{E1} \\n']\n",
    "\n",
    "M2 = [f'G1 X{X0} Y{Y0} Z{Zα} \\n',\n",
    "      f'M204 S1000 \\n',\n",
    "      f'G1 X{X1} F{F1} E{E1} \\n']\n",
    "\n",
    "D2 = [f'\\n',\n",
    "      f'\\n',\n",
    "      \n",
    "      f'G1 F10800.000 \\n',\n",
    "      f'G4 ; wait \\n',\n",
    "      f'M104 S0 ; turn off temperature \\n',\n",
    "      f'M140 S0 ; turn off heatbed \\n',\n",
    "      f'M107 ; turn off fan \\n',\n",
    "      f'G1 Z30.2 ; Move print head up \\n',\n",
    "      f'M73 P91 R0 \\n',\n",
    "      f'G1 X0 Y200 F3000 ; home X axis \\n',\n",
    "      f'M900 K0 ; reset LA \\n',\n",
    "      f'M84 ; disable motors \\n',\n",
    "      f'M73 P100 R0 \\n']\n",
    "  \n",
    "# \\n is placed to indicate EOL (End of Line) \n",
    "\n",
    "with open (f'{Trial}.gcode', 'w') as f:\n",
    "  f.writelines(D1)\n",
    "  f.writelines(M1)\n",
    "  f.writelines(D2)\n",
    "\n",
    "with open (f'{Trial}_αTest.gcode', 'w') as f:\n",
    "  f.writelines(D1)\n",
    "  f.writelines(M2)\n",
    "  f.writelines(D2)"
   ]
  },
  {
   "cell_type": "code",
   "execution_count": null,
   "metadata": {
    "id": "75HJXrCmfBq6"
   },
   "outputs": [],
   "source": []
  }
 ],
 "metadata": {
  "colab": {
   "collapsed_sections": [],
   "include_colab_link": true,
   "name": "Linear G-code Template.ipynb",
   "provenance": []
  },
  "kernelspec": {
   "display_name": "Python 3",
   "language": "python",
   "name": "python3"
  },
  "language_info": {
   "codemirror_mode": {
    "name": "ipython",
    "version": 3
   },
   "file_extension": ".py",
   "mimetype": "text/x-python",
   "name": "python",
   "nbconvert_exporter": "python",
   "pygments_lexer": "ipython3",
   "version": "3.6.6+"
  }
 },
 "nbformat": 4,
 "nbformat_minor": 1
}
